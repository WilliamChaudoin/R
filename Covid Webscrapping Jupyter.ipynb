{
 "cells": [
  {
   "cell_type": "code",
   "execution_count": null,
   "id": "707d0aef-d877-41a0-953d-6320abac8df6",
   "metadata": {},
   "outputs": [],
   "source": [
    "# Covid Webscrapping Project"
   ]
  },
  {
   "cell_type": "code",
   "execution_count": null,
   "id": "442e0bf3-b02e-4e01-b86f-1fb8489e0289",
   "metadata": {},
   "outputs": [],
   "source": [
    "# Install and Load Packages\n",
    "\n",
    "#install.packages(\"httr\")\n",
    "#install.packages(\"rvest\")\n",
    "library(httr)\n",
    "library(rvest)\n",
    "library(xml2)"
   ]
  },
  {
   "cell_type": "code",
   "execution_count": null,
   "id": "45708ea2-8449-437a-bdd7-81441d5bded3",
   "metadata": {},
   "outputs": [],
   "source": [
    "# Function To Establish Connection\n",
    "get_wiki_covid19_page <- function() {\n",
    "    \n",
    "base_url <- \"https://en.wikipedia.org/w/index.php\"\n",
    "url_parameter <- \"title=Template:COVID-19_testing_by_country\"\n",
    "full_url <- paste(base_url, \"?\", url_parameter, sep = \"\")\n",
    "response <- GET(url = full_url)\n",
    "return(response)\n",
    "}\n"
   ]
  },
  {
   "cell_type": "code",
   "execution_count": null,
   "id": "181dd3e5-a8c4-4f74-8f41-51e4adf91df2",
   "metadata": {},
   "outputs": [],
   "source": [
    "# Calling Established Function\n",
    "get_wiki_covid19_page()"
   ]
  },
  {
   "cell_type": "code",
   "execution_count": null,
   "id": "c9861cd5-f089-4629-8994-e7d5a6104864",
   "metadata": {},
   "outputs": [],
   "source": [
    "# Extracting The Root HTML Response\n",
    "root_html <- read_html(get_wiki_covid19_page())"
   ]
  },
  {
   "cell_type": "code",
   "execution_count": null,
   "id": "c6ae82b9-86f2-4fbf-b5e7-3a9acf26dd30",
   "metadata": {},
   "outputs": [],
   "source": [
    "# Extracting The Root Node\n",
    "root_node <- xml_root(root_html)\n",
    "root_node"
   ]
  },
  {
   "cell_type": "code",
   "execution_count": null,
   "id": "d3c0c950-bbe4-4301-a2c7-f19e14b3d36b",
   "metadata": {},
   "outputs": [],
   "source": [
    "# Extracting The Table Node\n",
    "table_node<-html_nodes(root_node, \"table\")\n",
    "table_node"
   ]
  },
  {
   "cell_type": "code",
   "execution_count": null,
   "id": "be2ee526-83a2-4f60-8989-06e97a31f030",
   "metadata": {},
   "outputs": [],
   "source": [
    "# Converting The Table Node Into A Data Frame\n",
    "CovidDF<-as.data.frame(html_table(table_node[2]))\n",
    "head(CovidDF)"
   ]
  },
  {
   "cell_type": "code",
   "execution_count": null,
   "id": "201ccc17-f2b9-4a45-8b77-9ba240596fe6",
   "metadata": {},
   "outputs": [],
   "source": [
    "# Summarizing The Data\n",
    "summary(CovidDF)"
   ]
  },
  {
   "cell_type": "code",
   "execution_count": null,
   "id": "6fbf8928-782f-4dbb-a858-f494dc7f004e",
   "metadata": {},
   "outputs": [],
   "source": [
    "# Data Cleaning And Alteration\n",
    "preprocessing <- function(data_frame) {\n",
    "    \n",
    "    shape <- dim(data_frame)\n",
    "\n",
    "    # Remove the World row\n",
    "    data_frame<-data_frame[!(data_frame$`Country.or.region`==\"World\"),]\n",
    "    # Remove the last row\n",
    "    data_frame <- data_frame[1:172, ]\n",
    "    \n",
    "    # We dont need the Units and Ref columns, so can be removed\n",
    "    data_frame[\"Ref.\"] <- NULL\n",
    "    data_frame[\"Units.b.\"] <- NULL\n",
    "    \n",
    "    # Renaming the columns\n",
    "    names(data_frame) <- c(\"Country\", \"Date\", \"Tested\", \"Confirmed\", \"Confirmed.Tested.Ratio\", \"Tested.Population.Ratio\", \"Confirmed.Population.Ratio\")\n",
    "    \n",
    "    # Convert column data types\n",
    "    data_frame$Country <- as.factor(data_frame$Country)\n",
    "    data_frame$Date <- as.factor(data_frame$Date)\n",
    "    data_frame$Tested <- as.numeric(gsub(\",\",\"\",data_frame$Tested))\n",
    "    data_frame$Confirmed <- as.numeric(gsub(\",\",\"\",data_frame$Confirmed))\n",
    "    data_frame$'Confirmed.Tested.Ratio' <- as.numeric(gsub(\",\",\"\",data_frame$`Confirmed.Tested.Ratio`))\n",
    "    data_frame$'Tested.Population.Ratio' <- as.numeric(gsub(\",\",\"\",data_frame$`Tested.Population.Ratio`))\n",
    "    data_frame$'Confirmed.Population.Ratio' <- as.numeric(gsub(\",\",\"\",data_frame$`Confirmed.Population.Ratio`))\n",
    "    \n",
    "    return(data_frame)\n",
    "}"
   ]
  },
  {
   "cell_type": "code",
   "execution_count": null,
   "id": "4453b12c-e415-4c5d-8a68-7ec2326d95e6",
   "metadata": {},
   "outputs": [],
   "source": [
    "# Calling Preprocessing Function And Forming A New Data Frame\n",
    "CovidDF.New = preprocessing(CovidDF)\n",
    "head(CovidDF.New)"
   ]
  },
  {
   "cell_type": "code",
   "execution_count": null,
   "id": "5ff641c4-2bc0-4642-bd87-cf5568ccea40",
   "metadata": {},
   "outputs": [],
   "source": [
    "# Summarizing New Data Frame\n",
    "summary(CovidDF.New)"
   ]
  },
  {
   "cell_type": "code",
   "execution_count": null,
   "id": "43faa46c-eca8-4a8e-aac3-aac6e87e7b4a",
   "metadata": {},
   "outputs": [],
   "source": [
    "# Displaying Specific Columns and Rows From Data Frame\n",
    "CovidDF.New[5:10,c('Country', 'Confirmed')]"
   ]
  },
  {
   "cell_type": "code",
   "execution_count": null,
   "id": "ada3ca24-9cf9-4056-ad89-d1a5a3fa8230",
   "metadata": {},
   "outputs": [],
   "source": [
    "# Total Confirmed Covid19 Cases Worldwide\n",
    "sum(CovidDF.New$Confirmed)"
   ]
  },
  {
   "cell_type": "code",
   "execution_count": null,
   "id": "4c755bc4-e887-4412-8753-8d68fb33f77f",
   "metadata": {},
   "outputs": [],
   "source": [
    "# Total Confirmed Covid19 Cases Worldwide\n",
    "sum(CovidDF.New$Confirmed)\n",
    "\n",
    "# Total Tested Cases Worldwide\n",
    "sum(CovidDF.New$Tested)\n",
    "\n",
    "# Positive Cases Ratio To Tested\n",
    "sum(CovidDF.New$Confirmed)/sum(CovidDF.New$Tested)"
   ]
  },
  {
   "cell_type": "code",
   "execution_count": null,
   "id": "7ceb5250-96f9-42dc-8b2f-d7bf7e8c895d",
   "metadata": {},
   "outputs": [],
   "source": [
    "# Altering Column Data Format\n",
    "## Displaying Column\n",
    "CovidDF.New$Country\n",
    "## Checking Column Class\n",
    "class(CovidDF.New$Country)\n",
    "## Converting From Factor To Character\n",
    "CovidDF.New$Country = as.character(CovidDF.New$Country)\n",
    "class(CovidDF.New$Country)"
   ]
  },
  {
   "cell_type": "code",
   "execution_count": null,
   "id": "3bdbee20-62a3-4140-9f24-05abcad72afd",
   "metadata": {},
   "outputs": [],
   "source": [
    "# Sorting Country Column\n",
    "sort(CovidDF.New$Country)\n",
    "sort(CovidDF.New$Country, decreasing = TRUE)\n",
    "print(sort(CovidDF.New$Country, decreasing = TRUE))"
   ]
  },
  {
   "cell_type": "code",
   "execution_count": null,
   "id": "cf3a8a1a-365e-4444-8555-9c8c82b7ac4d",
   "metadata": {},
   "outputs": [],
   "source": [
    "# Finding Matches In Country Column\n",
    "Index = grep('United.+', CovidDF.New$Country)\n",
    "for (i in Index) {print(CovidDF.New$Country[i])}"
   ]
  },
  {
   "cell_type": "code",
   "execution_count": null,
   "id": "26bd2bd9-a41d-43bf-bc3a-1578be9bbbcc",
   "metadata": {},
   "outputs": [],
   "source": [
    "# Comparing Random Country Rates\n",
    "CovidDF.New[35,c(1, 4, 7)]\n",
    "CovidDF.New[88,c(1, 4, 7)]"
   ]
  },
  {
   "cell_type": "code",
   "execution_count": null,
   "id": "0092ae98-cc03-4a40-903f-9eab9b311b9d",
   "metadata": {},
   "outputs": [],
   "source": [
    "# Which Rate Is Higher\n",
    "if (CovidDF.New[35,7] > CovidDF.New[88,7]) {\n",
    "    print('Columbia Has The Higher Ratio Of Confirmed Cases To Population')\n",
    " } else {\n",
    "    print('Kyrgzstan Has The Higher Ratio Of Confirmed Cases To Population')\n",
    " }"
   ]
  },
  {
   "cell_type": "code",
   "execution_count": null,
   "id": "55dd12c1-81cf-4f1c-a7ec-e6746b82a418",
   "metadata": {},
   "outputs": [],
   "source": [
    "# Which Countries Have Confirmed Population Ratios Below 1%\n",
    "CovidSubset = subset(CovidDF.New, subset = Confirmed.Population.Ratio < 1)\n",
    "print(CovidSubset[,c(1,7)])"
   ]
  },
  {
   "cell_type": "code",
   "execution_count": null,
   "id": "d88f4e34-0456-4dfd-80a4-664663e4a419",
   "metadata": {},
   "outputs": [],
   "source": [
    "# Export The Data As A CSV File\n",
    "write.csv(CovidDF.New, file = 'Covid.csv')"
   ]
  },
  {
   "cell_type": "code",
   "execution_count": null,
   "id": "9ace2ea3-3639-422c-85ea-93775bc3f40f",
   "metadata": {},
   "outputs": [],
   "source": [
    "# Confirming Download\n",
    "file_path = paste(getwd(), sep=\"\", \"/covid.csv\")\n",
    "print(file_path)\n",
    "file.exists(file_path)"
   ]
  },
  {
   "cell_type": "code",
   "execution_count": null,
   "id": "a555c4e2-f418-43bf-b93f-5641f285f8b0",
   "metadata": {},
   "outputs": [],
   "source": [
    "# Loading Saved File As A New Data Frame\n",
    "Covid19 = read.csv('Covid.csv')\n",
    "head(Covid19)"
   ]
  }
 ],
 "metadata": {
  "kernelspec": {
   "display_name": "R",
   "language": "R",
   "name": "ir"
  },
  "language_info": {
   "codemirror_mode": "r",
   "file_extension": ".r",
   "mimetype": "text/x-r-source",
   "name": "R",
   "pygments_lexer": "r",
   "version": "4.3.2"
  }
 },
 "nbformat": 4,
 "nbformat_minor": 5
}
